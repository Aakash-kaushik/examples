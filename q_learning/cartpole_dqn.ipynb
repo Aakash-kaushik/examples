{
 "cells": [
  {
   "cell_type": "markdown",
   "metadata": {},
   "source": [
    "[![mlpack-lab Image](https://img.shields.io/endpoint?url=https%3A%2F%2Flab.kurg.org%2Fstatus%2Fstatus.json)](https://lab.mlpack.org)\n",
    "\n",
    "You can easily run this notebook at https://lab.mlpack.org/\n",
    "\n",
    "This notebook shows how to get started with training reinforcement learning agents, particularly DQN agents, using mlpack. Here, we train a [Simple DQN](https://www.cs.toronto.edu/~vmnih/docs/dqn.pdf) agent to get high scores for the [CartPole](https://gym.openai.com/envs/CartPole-v0) environment. \n",
    "\n",
    "mlpack contains non-GUI implementations of some of OpenAI gym's environments. In this notebook, we use one such environment for training the agent, as it is fast to train on.\n",
    "\n",
    "As for testing, we make the agent run on OpenAI Gym toolkit's GUI interface provided through a distributed infrastructure (TCP API). More details can be found [here](https://github.com/zoq/gym_tcp_api).\n",
    "\n",
    "A video of the trained agent can be seen in the end."
   ]
  },
  {
   "cell_type": "markdown",
   "metadata": {},
   "source": [
    "## Including necessary libraries and namespaces"
   ]
  },
  {
   "cell_type": "code",
   "execution_count": 1,
   "metadata": {},
   "outputs": [],
   "source": [
    "#include <mlpack/core.hpp>"
   ]
  },
  {
   "cell_type": "code",
   "execution_count": 2,
   "metadata": {},
   "outputs": [],
   "source": [
    "#include <mlpack/methods/ann/ffn.hpp>\n",
    "#include <mlpack/methods/reinforcement_learning/q_learning.hpp>\n",
    "#include <mlpack/methods/reinforcement_learning/q_networks/simple_dqn.hpp>\n",
    "#include <mlpack/methods/reinforcement_learning/environment/cart_pole.hpp>\n",
    "#include <mlpack/methods/reinforcement_learning/policy/greedy_policy.hpp>\n",
    "#include <mlpack/methods/reinforcement_learning/training_config.hpp>"
   ]
  },
  {
   "cell_type": "code",
   "execution_count": 3,
   "metadata": {},
   "outputs": [],
   "source": [
    "// Used to run the agent on gym's environment (provided externally) for testing.\n",
    "#include <gym/environment.hpp>"
   ]
  },
  {
   "cell_type": "code",
   "execution_count": 4,
   "metadata": {},
   "outputs": [],
   "source": [
    "// Used to generate and display a video of the trained agent.\n",
    "#include \"xwidgets/ximage.hpp\"\n",
    "#include \"xwidgets/xvideo.hpp\"\n",
    "#include \"xwidgets/xaudio.hpp\""
   ]
  },
  {
   "cell_type": "code",
   "execution_count": 5,
   "metadata": {},
   "outputs": [],
   "source": [
    "using namespace mlpack;"
   ]
  },
  {
   "cell_type": "code",
   "execution_count": 6,
   "metadata": {},
   "outputs": [],
   "source": [
    "using namespace mlpack::ann;"
   ]
  },
  {
   "cell_type": "code",
   "execution_count": 7,
   "metadata": {},
   "outputs": [],
   "source": [
    "using namespace ens;"
   ]
  },
  {
   "cell_type": "code",
   "execution_count": 8,
   "metadata": {},
   "outputs": [],
   "source": [
    "using namespace mlpack::rl;"
   ]
  },
  {
   "cell_type": "markdown",
   "metadata": {},
   "source": [
    "## Initializing the agent"
   ]
  },
  {
   "cell_type": "code",
   "execution_count": 9,
   "metadata": {},
   "outputs": [],
   "source": [
    "// Set up the network.\n",
    "SimpleDQN<> model(4, 128, 32, 2);"
   ]
  },
  {
   "cell_type": "code",
   "execution_count": 10,
   "metadata": {},
   "outputs": [],
   "source": [
    "// Set up the policy and replay method.\n",
    "GreedyPolicy<CartPole> policy(1.0, 1000, 0.1, 0.99);\n",
    "RandomReplay<CartPole> replayMethod(32, 1000);"
   ]
  },
  {
   "cell_type": "code",
   "execution_count": 11,
   "metadata": {},
   "outputs": [],
   "source": [
    "// Set up training configurations.\n",
    "TrainingConfig config;\n",
    "config.StepSize() = 0.001;\n",
    "config.Discount() = 0.99;\n",
    "config.TargetNetworkSyncInterval() = 100;\n",
    "config.ExplorationSteps() = 100;\n",
    "config.DoubleQLearning() = false;\n",
    "config.StepLimit() = 200;"
   ]
  },
  {
   "cell_type": "code",
   "execution_count": 12,
   "metadata": {},
   "outputs": [],
   "source": [
    "// Set up DQN agent.\n",
    "QLearning<CartPole, decltype(model), AdamUpdate, decltype(policy)>\n",
    "  agent(std::move(config), std::move(model), std::move(policy),\n",
    "  std::move(replayMethod));"
   ]
  },
  {
   "cell_type": "markdown",
   "metadata": {},
   "source": [
    "## Preparation for training the agent"
   ]
  },
  {
   "cell_type": "code",
   "execution_count": 13,
   "metadata": {},
   "outputs": [],
   "source": [
    "// Initializing training variables.\n",
    "arma::running_stat<double> averageReturn;\n",
    "size_t episodes = 0;"
   ]
  },
  {
   "cell_type": "code",
   "execution_count": 14,
   "metadata": {},
   "outputs": [],
   "source": [
    "// Function to train the agent on mlpack's own implementation of the CartPole environment.\n",
    "void train(const size_t threshold)\n",
    "{\n",
    "  agent.Deterministic() = false;\n",
    "  while (true)\n",
    "  {\n",
    "    double episodeReturn = agent.Episode();\n",
    "    averageReturn(episodeReturn);\n",
    "    episodes += 1;\n",
    "\n",
    "    if(episodes % 10 == 0)\n",
    "    {\n",
    "      std::cout << \"Average return: \" << averageReturn.mean()\n",
    "          << \"\\t Episode return: \" << episodeReturn \n",
    "          << \"\\t Episode number: \" << episodes << std::endl;\n",
    "    }\n",
    "\n",
    "    if (episodes > 1000)\n",
    "    {\n",
    "      std::cout << \"Cart Pole with DQN failed.\" << std::endl;\n",
    "      break;\n",
    "    }\n",
    "\n",
    "    if (averageReturn.mean() > threshold)\n",
    "    {\n",
    "      agent.Deterministic() = true;\n",
    "      arma::running_stat<double> testReturn;\n",
    "      for (size_t i = 0; i < 10; ++i)\n",
    "        testReturn(agent.Episode());\n",
    "\n",
    "      std::cout << \"Average return in deterministic test: \"\n",
    "          << testReturn.mean() << std::endl;\n",
    "      break;\n",
    "    }\n",
    "  }\n",
    "}"
   ]
  },
  {
   "cell_type": "markdown",
   "metadata": {},
   "source": [
    "## Let the training begin"
   ]
  },
  {
   "cell_type": "code",
   "execution_count": 15,
   "metadata": {},
   "outputs": [
    {
     "name": "stdout",
     "output_type": "stream",
     "text": [
      "Average return: 19.8\t Episode return: 20\t Episode number: 10\n",
      "Average return: 19.75\t Episode return: 11\t Episode number: 20\n",
      "Average return: 19.4667\t Episode return: 10\t Episode number: 30\n",
      "Average return: 17.375\t Episode return: 10\t Episode number: 40\n",
      "Average return: 17.18\t Episode return: 7\t Episode number: 50\n",
      "Average return: 16.2833\t Episode return: 11\t Episode number: 60\n",
      "Average return: 15.5571\t Episode return: 20\t Episode number: 70\n",
      "Average return: 14.775\t Episode return: 8\t Episode number: 80\n",
      "Average return: 14.1\t Episode return: 10\t Episode number: 90\n",
      "Average return: 13.6\t Episode return: 10\t Episode number: 100\n",
      "Average return: 13.1636\t Episode return: 10\t Episode number: 110\n",
      "Average return: 13.125\t Episode return: 15\t Episode number: 120\n",
      "Average return: 15.5077\t Episode return: 35\t Episode number: 130\n",
      "Average return: 20.45\t Episode return: 62\t Episode number: 140\n",
      "Average return: 25.3333\t Episode return: 126\t Episode number: 150\n",
      "Average return in deterministic test: 144.3\n"
     ]
    }
   ],
   "source": [
    "// Training the agent till average return reaches 25.\n",
    "train(25)"
   ]
  },
  {
   "cell_type": "markdown",
   "metadata": {},
   "source": [
    "## Testing the trained agent"
   ]
  },
  {
   "cell_type": "code",
   "execution_count": 16,
   "metadata": {},
   "outputs": [
    {
     "name": "stdout",
     "output_type": "stream",
     "text": [
      " Total steps: 140\t Total reward: 140\n"
     ]
    },
    {
     "data": {
      "application/vnd.jupyter.widget-view+json": {
       "model_id": "9eac06d7522645518181538b7417cc83",
       "version_major": 2,
       "version_minor": 0
      },
      "text/plain": [
       "A Jupyter widget"
      ]
     },
     "execution_count": 16,
     "metadata": {},
     "output_type": "execute_result"
    }
   ],
   "source": [
    "// Creating and setting up the gym environment for testing.\n",
    "gym::Environment env(\"gym.kurg.org\", \"4040\", \"CartPole-v0\");\n",
    "env.monitor.start(\"./dummy/\", true, true);\n",
    "\n",
    "// Resets the environment.\n",
    "env.reset();\n",
    "env.render();\n",
    "\n",
    "double totalReward = 0;\n",
    "size_t totalSteps = 0;\n",
    "\n",
    "// Testing the agent on gym's environment.\n",
    "while (1)\n",
    "{\n",
    "  // State from the environment is passed to the agent's internal representation.\n",
    "  agent.State().Data() = env.observation;\n",
    "\n",
    "  // With the given state, the agent performs an action according to its defined policy.\n",
    "  agent.Step();\n",
    "\n",
    "  // Action to take, decided by the policy.\n",
    "  arma::mat action = {double(agent.Action())};\n",
    "\n",
    "  env.step(action);\n",
    "  totalReward += env.reward;\n",
    "  totalSteps += 1;\n",
    "\n",
    "  if (env.done)\n",
    "  {\n",
    "    std::cout << \" Total steps: \" << totalSteps << \"\\t Total reward: \"\n",
    "        << totalReward << std::endl;\n",
    "    break;\n",
    "  }\n",
    "\n",
    "  // Uncomment the following lines to see the reward and action in each step.\n",
    "  // std::cout << \" Current step: \" << totalSteps << \"\\t current reward: \"\n",
    "  //   << totalReward << \"\\t Action taken: \" << action;\n",
    "}\n",
    "\n",
    "env.close();\n",
    "std::string url = env.url();\n",
    "\n",
    "auto video = xw::video_from_url(url).finalize();\n",
    "video"
   ]
  },
  {
   "cell_type": "markdown",
   "metadata": {},
   "source": [
    "## A little more training..."
   ]
  },
  {
   "cell_type": "code",
   "execution_count": 17,
   "metadata": {},
   "outputs": [
    {
     "name": "stdout",
     "output_type": "stream",
     "text": [
      "Average return: 30.8\t Episode return: 112\t Episode number: 160\n",
      "Average return: 36.9706\t Episode return: 200\t Episode number: 170\n",
      "Average return: 44.2167\t Episode return: 134\t Episode number: 180\n",
      "Average return: 51.6421\t Episode return: 200\t Episode number: 190\n",
      "Average return: 58.92\t Episode return: 177\t Episode number: 200\n",
      "Average return: 64.7048\t Episode return: 147\t Episode number: 210\n",
      "Average return: 65.6045\t Episode return: 30\t Episode number: 220\n",
      "Average return: 67.2565\t Episode return: 200\t Episode number: 230\n",
      "Average return: 72.7875\t Episode return: 200\t Episode number: 240\n",
      "Average return: 77.876\t Episode return: 200\t Episode number: 250\n",
      "Average return: 82.5731\t Episode return: 200\t Episode number: 260\n",
      "Average return: 86.9222\t Episode return: 200\t Episode number: 270\n",
      "Average return: 90.5679\t Episode return: 200\t Episode number: 280\n",
      "Average return: 94.3414\t Episode return: 200\t Episode number: 290\n",
      "Average return: 97.8633\t Episode return: 200\t Episode number: 300\n",
      "Average return: 101.158\t Episode return: 200\t Episode number: 310\n",
      "Average return: 104.247\t Episode return: 200\t Episode number: 320\n",
      "Average return: 107.148\t Episode return: 200\t Episode number: 330\n",
      "Average return: 108.879\t Episode return: 9\t Episode number: 340\n",
      "Average return: 110.369\t Episode return: 144\t Episode number: 350\n",
      "Average return: 111.181\t Episode return: 158\t Episode number: 360\n",
      "Average return: 113.508\t Episode return: 200\t Episode number: 370\n",
      "Average return: 115.784\t Episode return: 200\t Episode number: 380\n",
      "Average return: 117.944\t Episode return: 200\t Episode number: 390\n",
      "Average return: 118.985\t Episode return: 20\t Episode number: 400\n",
      "Average return: 117.651\t Episode return: 87\t Episode number: 410\n",
      "Average return: 118.995\t Episode return: 200\t Episode number: 420\n",
      "Average return: 120.767\t Episode return: 200\t Episode number: 430\n",
      "Average return: 122.568\t Episode return: 200\t Episode number: 440\n",
      "Average return: 124.289\t Episode return: 200\t Episode number: 450\n",
      "Average return: 125.935\t Episode return: 200\t Episode number: 460\n",
      "Average return: 127.402\t Episode return: 200\t Episode number: 470\n",
      "Average return: 128.915\t Episode return: 200\t Episode number: 480\n",
      "Average return: 130.365\t Episode return: 200\t Episode number: 490\n",
      "Average return: 131.69\t Episode return: 200\t Episode number: 500\n",
      "Average return: 133.029\t Episode return: 200\t Episode number: 510\n",
      "Average return: 134.317\t Episode return: 200\t Episode number: 520\n",
      "Average return: 135.557\t Episode return: 200\t Episode number: 530\n",
      "Average return: 136.446\t Episode return: 200\t Episode number: 540\n",
      "Average return: 137.602\t Episode return: 200\t Episode number: 550\n",
      "Average return: 138.716\t Episode return: 200\t Episode number: 560\n",
      "Average return: 139.791\t Episode return: 200\t Episode number: 570\n",
      "Average return: 140.829\t Episode return: 200\t Episode number: 580\n",
      "Average return: 141.832\t Episode return: 200\t Episode number: 590\n",
      "Average return: 142.802\t Episode return: 200\t Episode number: 600\n",
      "Average return: 143.739\t Episode return: 200\t Episode number: 610\n",
      "Average return: 144.647\t Episode return: 200\t Episode number: 620\n",
      "Average return: 145.525\t Episode return: 200\t Episode number: 630\n",
      "Average return: 146.377\t Episode return: 200\t Episode number: 640\n",
      "Average return: 147.202\t Episode return: 200\t Episode number: 650\n",
      "Average return: 148.002\t Episode return: 200\t Episode number: 660\n",
      "Average return: 148.778\t Episode return: 200\t Episode number: 670\n",
      "Average return: 149.531\t Episode return: 200\t Episode number: 680\n",
      "Average return: 150.262\t Episode return: 200\t Episode number: 690\n",
      "Average return: 150.534\t Episode return: 20\t Episode number: 700\n",
      "Average return: 149.454\t Episode return: 200\t Episode number: 710\n",
      "Average return: 150.156\t Episode return: 200\t Episode number: 720\n",
      "Average return: 150.838\t Episode return: 200\t Episode number: 730\n",
      "Average return: 151.503\t Episode return: 200\t Episode number: 740\n",
      "Average return: 152.149\t Episode return: 200\t Episode number: 750\n",
      "Average return: 152.779\t Episode return: 200\t Episode number: 760\n",
      "Average return: 153.392\t Episode return: 200\t Episode number: 770\n",
      "Average return: 153.99\t Episode return: 200\t Episode number: 780\n",
      "Average return: 154.572\t Episode return: 200\t Episode number: 790\n",
      "Average return: 155.14\t Episode return: 200\t Episode number: 800\n",
      "Average return: 155.694\t Episode return: 200\t Episode number: 810\n",
      "Average return: 156.177\t Episode return: 200\t Episode number: 820\n",
      "Average return: 156.705\t Episode return: 200\t Episode number: 830\n",
      "Average return: 157.22\t Episode return: 200\t Episode number: 840\n",
      "Average return: 157.724\t Episode return: 200\t Episode number: 850\n",
      "Average return: 158.086\t Episode return: 200\t Episode number: 860\n",
      "Average return: 158.568\t Episode return: 200\t Episode number: 870\n",
      "Average return: 159.039\t Episode return: 200\t Episode number: 880\n",
      "Average return: 159.499\t Episode return: 200\t Episode number: 890\n",
      "Average return: 159.949\t Episode return: 200\t Episode number: 900\n",
      "Average return in deterministic test: 200\n"
     ]
    }
   ],
   "source": [
    "// Training the same agent till average return reaches 60\n",
    "train(160)"
   ]
  },
  {
   "cell_type": "markdown",
   "metadata": {},
   "source": [
    "# Final agent testing!"
   ]
  },
  {
   "cell_type": "code",
   "execution_count": 18,
   "metadata": {},
   "outputs": [
    {
     "name": "stdout",
     "output_type": "stream",
     "text": [
      " Total steps: 200\t Total reward: 200\n"
     ]
    },
    {
     "data": {
      "application/vnd.jupyter.widget-view+json": {
       "model_id": "523ceeba5b1249d5b1a19a60ae824ff1",
       "version_major": 2,
       "version_minor": 0
      },
      "text/plain": [
       "A Jupyter widget"
      ]
     },
     "execution_count": 18,
     "metadata": {},
     "output_type": "execute_result"
    }
   ],
   "source": [
    "// Creating and setting up the gym environment for testing.\n",
    "gym::Environment env(\"gym.kurg.org\", \"4040\", \"CartPole-v0\");\n",
    "env.monitor.start(\"./dummy/\", true, true);\n",
    "\n",
    "// Resets the environment.\n",
    "env.reset();\n",
    "env.render();\n",
    "\n",
    "double totalReward = 0;\n",
    "size_t totalSteps = 0;\n",
    "\n",
    "// Testing the agent on gym's environment.\n",
    "while (1)\n",
    "{\n",
    "  // State from the environment is passed to the agent's internal representation.\n",
    "  agent.State().Data() = env.observation;\n",
    "\n",
    "  // With the given state, the agent performs an action according to its defined policy.\n",
    "  agent.Step();\n",
    "\n",
    "  // Action to take, decided by the policy.\n",
    "  arma::mat action = {double(agent.Action())};\n",
    "\n",
    "  env.step(action);\n",
    "  totalReward += env.reward;\n",
    "  totalSteps += 1;\n",
    "\n",
    "  if (env.done)\n",
    "  {\n",
    "    std::cout << \" Total steps: \" << totalSteps << \"\\t Total reward: \"\n",
    "        << totalReward << std::endl;\n",
    "    break;\n",
    "  }\n",
    "\n",
    "  // Uncomment the following lines to see the reward and action in each step.\n",
    "  // std::cout << \" Current step: \" << totalSteps << \"\\t current reward: \"\n",
    "  //   << totalReward << \"\\t Action taken: \" << action;\n",
    "}\n",
    "\n",
    "env.close();\n",
    "std::string url = env.url();\n",
    "\n",
    "auto video = xw::video_from_url(url).finalize();\n",
    "video"
   ]
  }
 ],
 "metadata": {
  "kernelspec": {
   "display_name": "C++14",
   "language": "C++14",
   "name": "xcpp14"
  },
  "language_info": {
   "codemirror_mode": "text/x-c++src",
   "file_extension": ".cpp",
   "mimetype": "text/x-c++src",
   "name": "c++",
   "version": "14"
  }
 },
 "nbformat": 4,
 "nbformat_minor": 2
}
