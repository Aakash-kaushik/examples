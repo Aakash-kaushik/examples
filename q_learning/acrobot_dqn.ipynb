{
 "cells": [
  {
   "cell_type": "markdown",
   "metadata": {},
   "source": [
    "[![Binder](https://mybinder.org/badge_logo.svg)](https://lab.mlpack.org/v2/gh/mlpack/examples/master?urlpath=lab%2Ftree%2Fq_learning%2Facrobot_dqn.ipynb)\n",
    "\n",
    "You can easily run this notebook at https://lab.mlpack.org/\n",
    "\n",
    "This notebook is shows how to get use 3-Step Double DQN with Prioritized Replay to train an agent to get high scores for the [Acrobot](https://gym.openai.com/envs/Acrobot-v1) environment. \n",
    "\n",
    "We make the agent train and test on OpenAI Gym toolkit's GUI interface provided through a distributed infrastructure (TCP API). More details can be found [here](https://github.com/zoq/gym_tcp_api).\n",
    "\n",
    "A video of the trained agent can be seen in the end."
   ]
  },
  {
   "cell_type": "markdown",
   "metadata": {},
   "source": [
    "## Including necessary libraries and namespaces"
   ]
  },
  {
   "cell_type": "code",
   "execution_count": 1,
   "metadata": {},
   "outputs": [],
   "source": [
    "#include <mlpack/core.hpp>"
   ]
  },
  {
   "cell_type": "code",
   "execution_count": 2,
   "metadata": {},
   "outputs": [],
   "source": [
    "#include <mlpack/methods/ann/ffn.hpp>\n",
    "#include <mlpack/methods/reinforcement_learning/q_learning.hpp>\n",
    "#include <mlpack/methods/reinforcement_learning/q_networks/simple_dqn.hpp>\n",
    "#include <mlpack/methods/reinforcement_learning/environment/env_type.hpp>\n",
    "#include <mlpack/methods/reinforcement_learning/policy/greedy_policy.hpp>\n",
    "#include <mlpack/methods/reinforcement_learning/training_config.hpp>"
   ]
  },
  {
   "cell_type": "code",
   "execution_count": 3,
   "metadata": {},
   "outputs": [],
   "source": [
    "// Used to run the agent on gym's environment (provided externally) for testing.\n",
    "#include <gym/environment.hpp>"
   ]
  },
  {
   "cell_type": "code",
   "execution_count": 4,
   "metadata": {},
   "outputs": [],
   "source": [
    "// Used to generate and display a video of the trained agent.\n",
    "#include \"xwidgets/ximage.hpp\"\n",
    "#include \"xwidgets/xvideo.hpp\"\n",
    "#include \"xwidgets/xaudio.hpp\""
   ]
  },
  {
   "cell_type": "code",
   "execution_count": 5,
   "metadata": {},
   "outputs": [],
   "source": [
    "using namespace mlpack;"
   ]
  },
  {
   "cell_type": "code",
   "execution_count": 6,
   "metadata": {},
   "outputs": [],
   "source": [
    "using namespace mlpack::ann;"
   ]
  },
  {
   "cell_type": "code",
   "execution_count": 7,
   "metadata": {},
   "outputs": [],
   "source": [
    "using namespace ens;"
   ]
  },
  {
   "cell_type": "code",
   "execution_count": 8,
   "metadata": {},
   "outputs": [],
   "source": [
    "using namespace mlpack::rl;"
   ]
  },
  {
   "cell_type": "markdown",
   "metadata": {},
   "source": [
    "## Initializing the agent"
   ]
  },
  {
   "cell_type": "code",
   "execution_count": 9,
   "metadata": {},
   "outputs": [],
   "source": [
    "// Set up the state and action space.\n",
    "DiscreteActionEnv::State::dimension = 6;\n",
    "DiscreteActionEnv::Action::size = 3;"
   ]
  },
  {
   "cell_type": "code",
   "execution_count": 10,
   "metadata": {},
   "outputs": [],
   "source": [
    "// Set up the network.\n",
    "SimpleDQN<> model(DiscreteActionEnv::State::dimension, 64, 32,\n",
    "                  DiscreteActionEnv::Action::size);"
   ]
  },
  {
   "cell_type": "code",
   "execution_count": 11,
   "metadata": {},
   "outputs": [],
   "source": [
    "// Set up the policy method.\n",
    "GreedyPolicy<DiscreteActionEnv> policy(1.0, 1000, 0.1, 0.99);\n",
    "// To enable 3-step learning, we set the last parameter of the replay method as 3.\n",
    "PrioritizedReplay<DiscreteActionEnv> replayMethod(64, 5000, 0.6, 3);"
   ]
  },
  {
   "cell_type": "code",
   "execution_count": 12,
   "metadata": {},
   "outputs": [],
   "source": [
    "// Set up training configurations.\n",
    "TrainingConfig config;\n",
    "config.TargetNetworkSyncInterval() = 100;\n",
    "config.ExplorationSteps() = 500;\n",
    "\n",
    "// We use double Q learning for this example.\n",
    "config.DoubleQLearning() = true;"
   ]
  },
  {
   "cell_type": "code",
   "execution_count": 13,
   "metadata": {},
   "outputs": [],
   "source": [
    "// Set up DQN agent.\n",
    "QLearning<DiscreteActionEnv, decltype(model), AdamUpdate, decltype(policy), decltype(replayMethod)>\n",
    "    agent(config, model, policy, replayMethod);"
   ]
  },
  {
   "cell_type": "markdown",
   "metadata": {},
   "source": [
    "## Preparation for training the agent"
   ]
  },
  {
   "cell_type": "code",
   "execution_count": 14,
   "metadata": {},
   "outputs": [],
   "source": [
    "// Set up the gym training environment.\n",
    "gym::Environment env(\"gym.kurg.org\", \"4040\", \"Acrobot-v1\");\n",
    "\n",
    "// Initializing training variables.\n",
    "std::vector<double> returnList;\n",
    "size_t episodes = 0;\n",
    "bool converged = true;\n",
    "\n",
    "// The number of episode returns to keep track of.\n",
    "size_t consecutiveEpisodes = 50;"
   ]
  },
  {
   "cell_type": "code",
   "execution_count": 15,
   "metadata": {},
   "outputs": [],
   "source": [
    "// Function to train the agent on mlpack's own implementation of the CartPole environment.\n",
    "void train(const size_t numSteps)\n",
    "{\n",
    "  agent.Deterministic() = false;\n",
    "  std::cout << \"Training for \" << numSteps << \" steps.\" << std::endl;\n",
    "  while (agent.TotalSteps() < numSteps)\n",
    "  {\n",
    "    double episodeReturn = 0;\n",
    "    env.reset();\n",
    "    do\n",
    "    {\n",
    "      agent.State().Data() = env.observation;\n",
    "      agent.SelectAction();\n",
    "      arma::mat action = {double(agent.Action().action)};\n",
    "\n",
    "      env.step(action);\n",
    "      DiscreteActionEnv::State nextState;\n",
    "      nextState.Data() = env.observation;\n",
    "\n",
    "      replayMethod.Store(agent.State(), agent.Action(), env.reward, nextState,\n",
    "          env.done, 0.99);\n",
    "      episodeReturn += env.reward;\n",
    "      agent.TotalSteps()++;\n",
    "      if (agent.Deterministic() || agent.TotalSteps() < config.ExplorationSteps())\n",
    "        continue;\n",
    "      agent.TrainAgent();\n",
    "    } while (!env.done);\n",
    "    returnList.push_back(episodeReturn);\n",
    "    episodes += 1;\n",
    "\n",
    "    if (returnList.size() > consecutiveEpisodes)\n",
    "      returnList.erase(returnList.begin());\n",
    "        \n",
    "    double averageReturn = std::accumulate(returnList.begin(),\n",
    "                                           returnList.end(), 0.0) /\n",
    "                           returnList.size();\n",
    "    if(episodes % 1 == 0)\n",
    "    {\n",
    "      std::cout << \"Avg return in last \" << consecutiveEpisodes\n",
    "          << \" episodes: \" << averageReturn\n",
    "          << \"\\t Episode return: \" << episodeReturn\n",
    "          << \"\\t Total steps: \" << agent.TotalSteps() << std::endl;\n",
    "    }\n",
    "  }\n",
    "}"
   ]
  },
  {
   "cell_type": "markdown",
   "metadata": {},
   "source": [
    "## Let the training begin"
   ]
  },
  {
   "cell_type": "code",
   "execution_count": 16,
   "metadata": {},
   "outputs": [
    {
     "name": "stdout",
     "output_type": "stream",
     "text": [
      "Training for 15000 steps.\n",
      "Avg return in last 50 episodes: -500\t Episode return: -500\t Total steps: 500\n",
      "Avg return in last 50 episodes: -500\t Episode return: -500\t Total steps: 1000\n",
      "Avg return in last 50 episodes: -500\t Episode return: -500\t Total steps: 1500\n",
      "Avg return in last 50 episodes: -439.5\t Episode return: -258\t Total steps: 1759\n",
      "Avg return in last 50 episodes: -406.8\t Episode return: -276\t Total steps: 2036\n",
      "Avg return in last 50 episodes: -355.167\t Episode return: -97\t Total steps: 2134\n",
      "Avg return in last 50 episodes: -322\t Episode return: -123\t Total steps: 2258\n",
      "Avg return in last 50 episodes: -304.75\t Episode return: -184\t Total steps: 2443\n",
      "Avg return in last 50 episodes: -284.667\t Episode return: -124\t Total steps: 2568\n",
      "Avg return in last 50 episodes: -265.7\t Episode return: -95\t Total steps: 2664\n",
      "Avg return in last 50 episodes: -287\t Episode return: -500\t Total steps: 3164\n",
      "Avg return in last 50 episodes: -274.583\t Episode return: -138\t Total steps: 3303\n",
      "Avg return in last 50 episodes: -265.308\t Episode return: -154\t Total steps: 3458\n",
      "Avg return in last 50 episodes: -254.786\t Episode return: -118\t Total steps: 3577\n",
      "Avg return in last 50 episodes: -248.467\t Episode return: -160\t Total steps: 3738\n",
      "Avg return in last 50 episodes: -241.75\t Episode return: -141\t Total steps: 3880\n",
      "Avg return in last 50 episodes: -236.176\t Episode return: -147\t Total steps: 4028\n",
      "Avg return in last 50 episodes: -230\t Episode return: -125\t Total steps: 4154\n",
      "Avg return in last 50 episodes: -224.789\t Episode return: -131\t Total steps: 4286\n",
      "Avg return in last 50 episodes: -223.45\t Episode return: -198\t Total steps: 4485\n",
      "Avg return in last 50 episodes: -219.381\t Episode return: -138\t Total steps: 4624\n",
      "Avg return in last 50 episodes: -219.909\t Episode return: -231\t Total steps: 4856\n",
      "Avg return in last 50 episodes: -215.391\t Episode return: -116\t Total steps: 4973\n",
      "Avg return in last 50 episodes: -227.25\t Episode return: -500\t Total steps: 5473\n",
      "Avg return in last 50 episodes: -226.96\t Episode return: -220\t Total steps: 5694\n",
      "Avg return in last 50 episodes: -222.154\t Episode return: -102\t Total steps: 5797\n",
      "Avg return in last 50 episodes: -220.519\t Episode return: -178\t Total steps: 5976\n",
      "Avg return in last 50 episodes: -217.536\t Episode return: -137\t Total steps: 6114\n",
      "Avg return in last 50 episodes: -216.724\t Episode return: -194\t Total steps: 6309\n",
      "Avg return in last 50 episodes: -213.7\t Episode return: -126\t Total steps: 6436\n",
      "Avg return in last 50 episodes: -211.29\t Episode return: -139\t Total steps: 6576\n",
      "Avg return in last 50 episodes: -207.812\t Episode return: -100\t Total steps: 6677\n",
      "Avg return in last 50 episodes: -205.545\t Episode return: -133\t Total steps: 6811\n",
      "Avg return in last 50 episodes: -205.382\t Episode return: -200\t Total steps: 7012\n",
      "Avg return in last 50 episodes: -203.486\t Episode return: -139\t Total steps: 7152\n",
      "Avg return in last 50 episodes: -202.083\t Episode return: -153\t Total steps: 7306\n",
      "Avg return in last 50 episodes: -200.568\t Episode return: -146\t Total steps: 7453\n",
      "Avg return in last 50 episodes: -198.684\t Episode return: -129\t Total steps: 7583\n",
      "Avg return in last 50 episodes: -198.026\t Episode return: -173\t Total steps: 7757\n",
      "Avg return in last 50 episodes: -196.15\t Episode return: -123\t Total steps: 7881\n",
      "Avg return in last 50 episodes: -196.341\t Episode return: -204\t Total steps: 8086\n",
      "Avg return in last 50 episodes: -194.167\t Episode return: -105\t Total steps: 8192\n",
      "Avg return in last 50 episodes: -193.419\t Episode return: -162\t Total steps: 8355\n",
      "Avg return in last 50 episodes: -192.841\t Episode return: -168\t Total steps: 8524\n",
      "Avg return in last 50 episodes: -191.067\t Episode return: -113\t Total steps: 8638\n",
      "Avg return in last 50 episodes: -189.891\t Episode return: -137\t Total steps: 8776\n",
      "Avg return in last 50 episodes: -188.447\t Episode return: -122\t Total steps: 8899\n",
      "Avg return in last 50 episodes: -187.021\t Episode return: -120\t Total steps: 9020\n",
      "Avg return in last 50 episodes: -185.694\t Episode return: -122\t Total steps: 9143\n",
      "Avg return in last 50 episodes: -184.02\t Episode return: -102\t Total steps: 9246\n",
      "Avg return in last 50 episodes: -177.22\t Episode return: -160\t Total steps: 9407\n",
      "Avg return in last 50 episodes: -169.66\t Episode return: -122\t Total steps: 9530\n",
      "Avg return in last 50 episodes: -161.96\t Episode return: -115\t Total steps: 9646\n",
      "Avg return in last 50 episodes: -159\t Episode return: -110\t Total steps: 9757\n",
      "Avg return in last 50 episodes: -155.8\t Episode return: -116\t Total steps: 9874\n",
      "Avg return in last 50 episodes: -156.26\t Episode return: -120\t Total steps: 9995\n",
      "Avg return in last 50 episodes: -155.54\t Episode return: -87\t Total steps: 10083\n",
      "Avg return in last 50 episodes: -154.54\t Episode return: -134\t Total steps: 10218\n",
      "Avg return in last 50 episodes: -153.82\t Episode return: -88\t Total steps: 10307\n",
      "Avg return in last 50 episodes: -153.82\t Episode return: -95\t Total steps: 10403\n",
      "Avg return in last 50 episodes: -146.96\t Episode return: -157\t Total steps: 10561\n",
      "Avg return in last 50 episodes: -146.24\t Episode return: -102\t Total steps: 10664\n",
      "Avg return in last 50 episodes: -146.44\t Episode return: -164\t Total steps: 10829\n",
      "Avg return in last 50 episodes: -146.96\t Episode return: -144\t Total steps: 10974\n",
      "Avg return in last 50 episodes: -149.12\t Episode return: -268\t Total steps: 11243\n",
      "Avg return in last 50 episodes: -148.72\t Episode return: -121\t Total steps: 11365\n",
      "Avg return in last 50 episodes: -149.36\t Episode return: -179\t Total steps: 11545\n",
      "Avg return in last 50 episodes: -150.36\t Episode return: -175\t Total steps: 11721\n",
      "Avg return in last 50 episodes: -150.68\t Episode return: -147\t Total steps: 11869\n",
      "Avg return in last 50 episodes: -148.38\t Episode return: -83\t Total steps: 11953\n",
      "Avg return in last 50 episodes: -148.24\t Episode return: -131\t Total steps: 12085\n",
      "Avg return in last 50 episodes: -146.52\t Episode return: -145\t Total steps: 12231\n",
      "Avg return in last 50 episodes: -145.94\t Episode return: -87\t Total steps: 12319\n",
      "Avg return in last 50 episodes: -137.88\t Episode return: -97\t Total steps: 12417\n",
      "Avg return in last 50 episodes: -135.8\t Episode return: -116\t Total steps: 12534\n",
      "Avg return in last 50 episodes: -137.24\t Episode return: -174\t Total steps: 12709\n",
      "Avg return in last 50 episodes: -136.54\t Episode return: -143\t Total steps: 12853\n",
      "Avg return in last 50 episodes: -135.72\t Episode return: -96\t Total steps: 12950\n",
      "Avg return in last 50 episodes: -134.52\t Episode return: -134\t Total steps: 13085\n",
      "Avg return in last 50 episodes: -134.5\t Episode return: -125\t Total steps: 13211\n",
      "Avg return in last 50 episodes: -134.18\t Episode return: -123\t Total steps: 13335\n",
      "Avg return in last 50 episodes: -133.72\t Episode return: -77\t Total steps: 13413\n",
      "Avg return in last 50 episodes: -133.6\t Episode return: -127\t Total steps: 13541\n",
      "Avg return in last 50 episodes: -132.88\t Episode return: -164\t Total steps: 13706\n",
      "Avg return in last 50 episodes: -132.76\t Episode return: -133\t Total steps: 13840\n",
      "Avg return in last 50 episodes: -132\t Episode return: -115\t Total steps: 13956\n",
      "Avg return in last 50 episodes: -131.32\t Episode return: -112\t Total steps: 14069\n",
      "Avg return in last 50 episodes: -131.08\t Episode return: -117\t Total steps: 14187\n",
      "Avg return in last 50 episodes: -129.66\t Episode return: -102\t Total steps: 14290\n",
      "Avg return in last 50 episodes: -129.38\t Episode return: -109\t Total steps: 14400\n",
      "Avg return in last 50 episodes: -127.96\t Episode return: -133\t Total steps: 14534\n",
      "Avg return in last 50 episodes: -127.9\t Episode return: -102\t Total steps: 14637\n",
      "Avg return in last 50 episodes: -127.18\t Episode return: -126\t Total steps: 14764\n",
      "Avg return in last 50 episodes: -126.16\t Episode return: -117\t Total steps: 14882\n",
      "Avg return in last 50 episodes: -126.52\t Episode return: -131\t Total steps: 15014\n"
     ]
    }
   ],
   "source": [
    "// Training the agent for a total of at least 15000 steps.\n",
    "train(15000)"
   ]
  },
  {
   "cell_type": "markdown",
   "metadata": {},
   "source": [
    "## Testing the trained agent"
   ]
  },
  {
   "cell_type": "code",
   "execution_count": 17,
   "metadata": {},
   "outputs": [
    {
     "name": "stdout",
     "output_type": "stream",
     "text": [
      " Total steps: 82\t Total reward: -81\n"
     ]
    },
    {
     "data": {
      "application/vnd.jupyter.widget-view+json": {
       "model_id": "296cc2beadd64dffbcf970134e42ef79",
       "version_major": 2,
       "version_minor": 0
      },
      "text/plain": [
       "A Jupyter widget"
      ]
     },
     "execution_count": 17,
     "metadata": {},
     "output_type": "execute_result"
    }
   ],
   "source": [
    "agent.Deterministic() = true;\n",
    "\n",
    "// Creating and setting up the gym environment for testing.\n",
    "gym::Environment envTest(\"gym.kurg.org\", \"4040\", \"Acrobot-v1\");\n",
    "envTest.monitor.start(\"./dummy/\", true, true);\n",
    "\n",
    "// Resets the environment.\n",
    "envTest.reset();\n",
    "envTest.render();\n",
    "\n",
    "double totalReward = 0;\n",
    "size_t totalSteps = 0;\n",
    "\n",
    "// Testing the agent on gym's environment.\n",
    "while (1)\n",
    "{\n",
    "  // State from the environment is passed to the agent's internal representation.\n",
    "  agent.State().Data() = envTest.observation;\n",
    "\n",
    "  // With the given state, the agent selects an action according to its defined policy.\n",
    "  agent.SelectAction();\n",
    "\n",
    "  // Action to take, decided by the policy.\n",
    "  arma::mat action = {double(agent.Action().action)};\n",
    "\n",
    "  envTest.step(action);\n",
    "  totalReward += envTest.reward;\n",
    "  totalSteps += 1;\n",
    "\n",
    "  if (envTest.done)\n",
    "  {\n",
    "    std::cout << \" Total steps: \" << totalSteps << \"\\t Total reward: \"\n",
    "        << totalReward << std::endl;\n",
    "    break;\n",
    "  }\n",
    "\n",
    "  // Uncomment the following lines to see the reward and action in each step.\n",
    "  // std::cout << \" Current step: \" << totalSteps << \"\\t current reward: \"\n",
    "  //   << totalReward << \"\\t Action taken: \" << action;\n",
    "}\n",
    "\n",
    "envTest.close();\n",
    "std::string url = envTest.url();\n",
    "\n",
    "auto video = xw::video_from_url(url).finalize();\n",
    "video"
   ]
  }
 ],
 "metadata": {
  "kernelspec": {
   "display_name": "C++14",
   "language": "C++14",
   "name": "xcpp14"
  },
  "language_info": {
   "codemirror_mode": "text/x-c++src",
   "file_extension": ".cpp",
   "mimetype": "text/x-c++src",
   "name": "c++",
   "version": "14"
  }
 },
 "nbformat": 4,
 "nbformat_minor": 2
}
