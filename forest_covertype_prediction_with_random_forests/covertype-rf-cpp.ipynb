{
  "metadata":{
    "language_info":{
      "codemirror_mode":"text/x-c++src",
      "file_extension":".cpp",
      "mimetype":"text/x-c++src",
      "name":"c++",
      "version":"14"
    },
    "kernelspec":{
      "name":"xcpp14",
      "display_name":"C++14",
      "language":"C++14"
    }
  },
  "nbformat_minor":4,
  "nbformat":4,
  "cells":[
    {
      "cell_type":"markdown",
      "source":"[![Binder](https://mybinder.org/badge_logo.svg)](https://lab.mlpack.org/v2/gh/zoq/mlpack-binder/master?urlpath=lab%2Ftree%2Fforest_covertype_prediction_with_random_forests%2Fcovertype-rf-cpp.ipynb)",
      "metadata":{

      }
    },
    {
      "cell_type":"code",
      "source":"/**\n * @file covertype-rf-cpp.ipynb\n *\n * Classification using Random Forest on the Covertype dataset.\n */",
      "metadata":{
        "trusted":true
      },
      "execution_count":1,
      "outputs":[

      ]
    },
    {
      "cell_type":"code",
      "source":"!wget -O - https://lab.mlpack.org/data/covertype-small.csv.gz | gunzip -c > covertype-small.csv",
      "metadata":{
        "trusted":true
      },
      "execution_count":2,
      "outputs":[

      ]
    },
    {
      "cell_type":"code",
      "source":"#include <mlpack/core.hpp>\n#include <mlpack/core/data/split_data.hpp>\n#include <mlpack/methods/random_forest/random_forest.hpp>",
      "metadata":{
        "trusted":true
      },
      "execution_count":3,
      "outputs":[

      ]
    },
    {
      "cell_type":"code",
      "source":"using namespace mlpack;",
      "metadata":{
        "trusted":true
      },
      "execution_count":5,
      "outputs":[

      ]
    },
    {
      "cell_type":"code",
      "source":"using namespace mlpack::tree;",
      "metadata":{
        "trusted":true
      },
      "execution_count":6,
      "outputs":[

      ]
    },
    {
      "cell_type":"code",
      "source":"// Load the dataset that we downloaded.\narma::mat dataset;\ndata::Load(\"covertype-small.csv\", dataset);",
      "metadata":{
        "trusted":true
      },
      "execution_count":7,
      "outputs":[

      ]
    },
    {
      "cell_type":"code",
      "source":"// Labels are the last row.\narma::Row<size_t> labels =\n    arma::conv_to<arma::Row<size_t>>::from(dataset.row(dataset.n_rows - 1));\ndataset.shed_row(dataset.n_rows - 1);",
      "metadata":{
        "trusted":true
      },
      "execution_count":9,
      "outputs":[

      ]
    },
    {
      "cell_type":"code",
      "source":"arma::mat trainSet, testSet;\narma::Row<size_t> trainLabels, testLabels;\n\n// Split dataset randomly into training set and test set.\ndata::Split(dataset, labels, trainSet, testSet, trainLabels, testLabels,\n    0.3 /* Percentage of dataset to use for test set. */);",
      "metadata":{
        "trusted":true
      },
      "execution_count":10,
      "outputs":[

      ]
    },
    {
      "cell_type":"code",
      "source":"RandomForest<> rf(trainSet, trainLabels, 8 /* Number of classes in dataset */,\n    10 /* 10 trees */);",
      "metadata":{
        "trusted":true
      },
      "execution_count":11,
      "outputs":[

      ]
    },
    {
      "cell_type":"code",
      "source":"// Predict the labels of the test points.\narma::Row<size_t> output;\nrf.Classify(testSet, output);",
      "metadata":{
        "trusted":true
      },
      "execution_count":12,
      "outputs":[

      ]
    },
    {
      "cell_type":"code",
      "source":"// Now print the accuracy. The 'probabilities' output could also be used to\n// generate an ROC curve.\nconst size_t correct = arma::accu(output == testLabels);\nstd::cout << correct\n          << \" correct out of \"\n          << testLabels.n_elem << \" (\"\n          << 100.0 * correct / testLabels.n_elem\n          << \").\" << std::endl;",
      "metadata":{
        "trusted":true
      },
      "execution_count":13,
      "outputs":[
        {
          "name":"stdout",
          "text":"29798 correct out of 30000 (99.3267).\n",
          "output_type":"stream"
        }
      ]
    }
  ]
}
