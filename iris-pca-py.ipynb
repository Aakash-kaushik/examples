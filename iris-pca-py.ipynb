{
 "cells": [
  {
   "cell_type": "markdown",
   "metadata": {},
   "source": [
    "[![mlpack-lab Image](https://img.shields.io/endpoint?url=https%3A%2F%2Flab.kurg.org%2Fstatus%2Fstatus.json)](https://lab.mlpack.org)"
   ]
  },
  {
   "cell_type": "code",
   "execution_count": 1,
   "metadata": {},
   "outputs": [],
   "source": [
    "# @file iris-pca-py.ipynb\n",
    "#\n",
    "# Principal Component Analysis applied to the Iris dataset."
   ]
  },
  {
   "cell_type": "code",
   "execution_count": 2,
   "metadata": {},
   "outputs": [],
   "source": [
    "import mlpack\n",
    "import pandas as pd\n",
    "import numpy as np"
   ]
  },
  {
   "cell_type": "code",
   "execution_count": 3,
   "metadata": {},
   "outputs": [],
   "source": [
    "# Load the dataset from an online URL.\n",
    "data = pd.read_csv('https://lab.mlpack.org/data/iris.csv')"
   ]
  },
  {
   "cell_type": "code",
   "execution_count": 4,
   "metadata": {},
   "outputs": [
    {
     "name": "stdout",
     "output_type": "stream",
     "text": [
      "   5.1  3.5  1.4  0.2\n",
      "0  4.9  3.0  1.4  0.2\n",
      "1  4.7  3.2  1.3  0.2\n",
      "2  4.6  3.1  1.5  0.2\n",
      "3  5.0  3.6  1.4  0.2\n",
      "4  5.4  3.9  1.7  0.4\n",
      "5  4.6  3.4  1.4  0.3\n",
      "6  5.0  3.4  1.5  0.2\n",
      "7  4.4  2.9  1.4  0.2\n",
      "8  4.9  3.1  1.5  0.1\n",
      "9  5.4  3.7  1.5  0.2\n"
     ]
    }
   ],
   "source": [
    "# Print the first 10 rows of the input data.\n",
    "print(data.head(10))"
   ]
  },
  {
   "cell_type": "code",
   "execution_count": 5,
   "metadata": {},
   "outputs": [],
   "source": [
    "data = mlpack.pca(decomposition_method='exact', input=data, new_dimensionality=2)"
   ]
  },
  {
   "cell_type": "code",
   "execution_count": 6,
   "metadata": {},
   "outputs": [
    {
     "name": "stdout",
     "output_type": "stream",
     "text": [
      "[[ 2.90803676  0.13076902]\n",
      " [ 2.76491784  0.30475856]\n",
      " [ 2.7461081  -0.34027983]\n",
      " [ 2.29679724 -0.75348469]\n",
      " [ 2.83904793  0.0755604 ]\n",
      " [ 2.64423265 -0.17657389]\n",
      " [ 2.90682876  0.56422248]\n",
      " [ 2.69199575  0.10050325]\n",
      " [ 2.52354747 -0.65790634]]\n"
     ]
    }
   ],
   "source": [
    "# Print the first ten columns of the transformed input.\n",
    "print(data['output'][1:10])"
   ]
  }
 ],
 "metadata": {
  "kernelspec": {
   "display_name": "Python 3",
   "language": "python",
   "name": "python3"
  },
  "language_info": {
   "codemirror_mode": {
    "name": "ipython",
    "version": 3
   },
   "file_extension": ".py",
   "mimetype": "text/x-python",
   "name": "python",
   "nbconvert_exporter": "python",
   "pygments_lexer": "ipython3",
   "version": "3.6.5"
  }
 },
 "nbformat": 4,
 "nbformat_minor": 2
}
