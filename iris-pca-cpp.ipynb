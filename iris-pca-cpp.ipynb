{
 "cells": [
  {
   "cell_type": "markdown",
   "metadata": {},
   "source": [
    "[![mlpack-lab Image](https://img.shields.io/endpoint?url=https%3A%2F%2Flab.kurg.org%2Fstatus%2Fstatus.json)](https://lab.mlpack.org)"
   ]
  },
  {
   "cell_type": "code",
   "execution_count": 28,
   "metadata": {},
   "outputs": [],
   "source": [
    "/**\n",
    " * @file iris-pca-cpp.ipynb\n",
    " *\n",
    " * Principal Component Analysis applied to the Iris dataset.\n",
    " */"
   ]
  },
  {
   "cell_type": "code",
   "execution_count": 45,
   "metadata": {},
   "outputs": [
    {
     "name": "stdout",
     "output_type": "stream",
     "text": [
      "File ‘iris.csv’ already there; not retrieving.\n",
      "\n"
     ]
    }
   ],
   "source": [
    "!wget -nc https://lab.mlpack.org/data/iris.csv"
   ]
  },
  {
   "cell_type": "code",
   "execution_count": 46,
   "metadata": {},
   "outputs": [],
   "source": [
    "#include <mlpack/core.hpp>\n",
    "#include <mlpack/methods/pca/pca.hpp>"
   ]
  },
  {
   "cell_type": "code",
   "execution_count": 47,
   "metadata": {},
   "outputs": [],
   "source": [
    "using namespace mlpack;"
   ]
  },
  {
   "cell_type": "code",
   "execution_count": 48,
   "metadata": {},
   "outputs": [],
   "source": [
    "using namespace mlpack::pca;"
   ]
  },
  {
   "cell_type": "code",
   "execution_count": 49,
   "metadata": {},
   "outputs": [],
   "source": [
    "arma::mat input;\n",
    "data::Load(\"iris.csv\", input);"
   ]
  },
  {
   "cell_type": "code",
   "execution_count": 50,
   "metadata": {},
   "outputs": [
    {
     "name": "stdout",
     "output_type": "stream",
     "text": [
      "   5.1000   3.5000   1.4000\n",
      "   4.9000   3.0000   1.4000\n",
      "   4.7000   3.2000   1.3000\n",
      "   4.6000   3.1000   1.5000\n",
      "   5.0000   3.6000   1.4000\n",
      "   5.4000   3.9000   1.7000\n",
      "   4.6000   3.4000   1.4000\n",
      "   5.0000   3.4000   1.5000\n",
      "   4.4000   2.9000   1.4000\n",
      "   4.9000   3.1000   1.5000\n",
      "   5.4000   3.7000   1.5000\n",
      "\n"
     ]
    }
   ],
   "source": [
    "// Print the first 10 rows of the input data.\n",
    "std::cout << input.submat(0, 0, 2, 10).t() << std::endl;"
   ]
  },
  {
   "cell_type": "code",
   "execution_count": 51,
   "metadata": {},
   "outputs": [],
   "source": [
    "PCA<> pca;\n",
    "pca.Apply(input, 2);"
   ]
  },
  {
   "cell_type": "code",
   "execution_count": 52,
   "metadata": {},
   "outputs": [
    {
     "name": "stdout",
     "output_type": "stream",
     "text": [
      "   2.6842  -0.3266\n",
      "   2.7154   0.1696\n",
      "   2.8898   0.1373\n",
      "   2.7464   0.3111\n",
      "   2.7286  -0.3339\n",
      "   2.2799  -0.7478\n",
      "   2.8209   0.0821\n",
      "   2.6265  -0.1704\n",
      "   2.8880   0.5708\n",
      "   2.6738   0.1067\n",
      "   2.5065  -0.6519\n",
      "\n"
     ]
    }
   ],
   "source": [
    "// Print the first ten columns of the transformed input.\n",
    "std::cout << input.cols(0, 10).t() << std::endl;"
   ]
  }
 ],
 "metadata": {
  "kernelspec": {
   "display_name": "C++11",
   "language": "C++11",
   "name": "xcpp11"
  },
  "language_info": {
   "codemirror_mode": "text/x-c++src",
   "file_extension": ".cpp",
   "mimetype": "text/x-c++src",
   "name": "c++",
   "version": "11"
  }
 },
 "nbformat": 4,
 "nbformat_minor": 2
}
