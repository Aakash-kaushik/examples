{
 "cells": [
  {
   "cell_type": "markdown",
   "metadata": {},
   "source": [
    "[![mlpack-lab Image](https://img.shields.io/endpoint?url=https%3A%2F%2Flab.kurg.org%2Fstatus%2Fstatus.json)](https://lab.mlpack.org)"
   ]
  },
  {
   "cell_type": "code",
   "execution_count": 1,
   "metadata": {},
   "outputs": [],
   "source": [
    "# @file covertype-rf-py.ipynb\n",
    "#\n",
    "# Classification using Random Forest on the Covertype dataset."
   ]
  },
  {
   "cell_type": "code",
   "execution_count": 2,
   "metadata": {},
   "outputs": [],
   "source": [
    "import mlpack\n",
    "import pandas as pd\n",
    "import numpy as np"
   ]
  },
  {
   "cell_type": "code",
   "execution_count": 3,
   "metadata": {},
   "outputs": [],
   "source": [
    "# Load the dataset from an online URL.\n",
    "df = pd.read_csv('https://lab.mlpack.org/data/covertype-small.csv.gz')"
   ]
  },
  {
   "cell_type": "code",
   "execution_count": 4,
   "metadata": {},
   "outputs": [],
   "source": [
    "# Split the labels.\n",
    "labels = df['label']\n",
    "dataset = df.drop('label', 1)"
   ]
  },
  {
   "cell_type": "code",
   "execution_count": 5,
   "metadata": {},
   "outputs": [],
   "source": [
    "# Split the dataset using mlpack. The output comes back as a dictionary, which\n",
    "# we'll unpack for clarity of code.\n",
    "output = mlpack.preprocess_split(input=dataset, input_labels=labels, test_ratio=0.3)"
   ]
  },
  {
   "cell_type": "code",
   "execution_count": 6,
   "metadata": {},
   "outputs": [],
   "source": [
    "training_set = output['training']\n",
    "training_labels = output['training_labels']\n",
    "test_set = output['test']\n",
    "test_labels = output['test_labels']"
   ]
  },
  {
   "cell_type": "code",
   "execution_count": null,
   "metadata": {},
   "outputs": [],
   "source": [
    "# Train a random forest.\n",
    "output = mlpack.random_forest(training=training_set, labels=training_labels,\n",
    "    print_training_accuracy=True, num_trees=10, minimum_leaf_size=3)"
   ]
  },
  {
   "cell_type": "code",
   "execution_count": null,
   "metadata": {},
   "outputs": [],
   "source": [
    "random_forest = output['output_model']"
   ]
  },
  {
   "cell_type": "code",
   "execution_count": null,
   "metadata": {},
   "outputs": [],
   "source": [
    "# Predict the labels of the test points.\n",
    "output = mlpack.random_forest(input_model=random_forest, test=test_set)"
   ]
  },
  {
   "cell_type": "code",
   "execution_count": null,
   "metadata": {},
   "outputs": [],
   "source": [
    "# Now print the accuracy. The 'probabilities' output could also be used to\n",
    "# generate an ROC curve.\n",
    "correct = np.sum(output['predictions'] == test_labels.flatten())\n",
    "print(str(correct) + ' correct out of ' + str(len(test_labels)) +\n",
    "      ' (' + str(100 * float(correct) / float(len(test_labels))) + '%).')"
   ]
  }
 ],
 "metadata": {
  "kernelspec": {
   "display_name": "Python 3",
   "language": "python",
   "name": "python3"
  },
  "language_info": {
   "codemirror_mode": {
    "name": "ipython",
    "version": 3
   },
   "file_extension": ".py",
   "mimetype": "text/x-python",
   "name": "python",
   "nbconvert_exporter": "python",
   "pygments_lexer": "ipython3",
   "version": "3.6.5"
  }
 },
 "nbformat": 4,
 "nbformat_minor": 2
}
